{
  "nbformat": 4,
  "nbformat_minor": 0,
  "metadata": {
    "colab": {
      "provenance": [],
      "include_colab_link": true
    },
    "kernelspec": {
      "name": "python3",
      "display_name": "Python 3"
    },
    "language_info": {
      "name": "python"
    }
  },
  "cells": [
    {
      "cell_type": "markdown",
      "metadata": {
        "id": "view-in-github",
        "colab_type": "text"
      },
      "source": [
        "<a href=\"https://colab.research.google.com/github/moahossain/Temperature-Conversion/blob/main/Copy_of_12_annotations.ipynb\" target=\"_parent\"><img src=\"https://colab.research.google.com/assets/colab-badge.svg\" alt=\"Open In Colab\"/></a>"
      ]
    },
    {
      "cell_type": "markdown",
      "source": [
        "# Text and Annotations\n",
        "\n",
        "<font color='darkred'>As usual, please make sure to install dash first.</font>"
      ],
      "metadata": {
        "id": "LJGEneE6oBHW"
      }
    },
    {
      "cell_type": "code",
      "execution_count": 1,
      "metadata": {
        "id": "qi6jhBf5Lf3T",
        "colab": {
          "base_uri": "https://localhost:8080/"
        },
        "collapsed": true,
        "outputId": "86a0fc29-889a-42bb-8984-8482d275976e"
      },
      "outputs": [
        {
          "output_type": "stream",
          "name": "stdout",
          "text": [
            "Collecting dash\n",
            "  Downloading dash-2.18.2-py3-none-any.whl.metadata (10 kB)\n",
            "Requirement already satisfied: Flask<3.1,>=1.0.4 in /usr/local/lib/python3.10/dist-packages (from dash) (3.0.3)\n",
            "Collecting Werkzeug<3.1 (from dash)\n",
            "  Downloading werkzeug-3.0.6-py3-none-any.whl.metadata (3.7 kB)\n",
            "Requirement already satisfied: plotly>=5.0.0 in /usr/local/lib/python3.10/dist-packages (from dash) (5.24.1)\n",
            "Collecting dash-html-components==2.0.0 (from dash)\n",
            "  Downloading dash_html_components-2.0.0-py3-none-any.whl.metadata (3.8 kB)\n",
            "Collecting dash-core-components==2.0.0 (from dash)\n",
            "  Downloading dash_core_components-2.0.0-py3-none-any.whl.metadata (2.9 kB)\n",
            "Collecting dash-table==5.0.0 (from dash)\n",
            "  Downloading dash_table-5.0.0-py3-none-any.whl.metadata (2.4 kB)\n",
            "Requirement already satisfied: importlib-metadata in /usr/local/lib/python3.10/dist-packages (from dash) (8.5.0)\n",
            "Requirement already satisfied: typing-extensions>=4.1.1 in /usr/local/lib/python3.10/dist-packages (from dash) (4.12.2)\n",
            "Requirement already satisfied: requests in /usr/local/lib/python3.10/dist-packages (from dash) (2.32.3)\n",
            "Collecting retrying (from dash)\n",
            "  Downloading retrying-1.3.4-py3-none-any.whl.metadata (6.9 kB)\n",
            "Requirement already satisfied: nest-asyncio in /usr/local/lib/python3.10/dist-packages (from dash) (1.6.0)\n",
            "Requirement already satisfied: setuptools in /usr/local/lib/python3.10/dist-packages (from dash) (75.1.0)\n",
            "Requirement already satisfied: Jinja2>=3.1.2 in /usr/local/lib/python3.10/dist-packages (from Flask<3.1,>=1.0.4->dash) (3.1.4)\n",
            "Requirement already satisfied: itsdangerous>=2.1.2 in /usr/local/lib/python3.10/dist-packages (from Flask<3.1,>=1.0.4->dash) (2.2.0)\n",
            "Requirement already satisfied: click>=8.1.3 in /usr/local/lib/python3.10/dist-packages (from Flask<3.1,>=1.0.4->dash) (8.1.7)\n",
            "Requirement already satisfied: blinker>=1.6.2 in /usr/local/lib/python3.10/dist-packages (from Flask<3.1,>=1.0.4->dash) (1.9.0)\n",
            "Requirement already satisfied: tenacity>=6.2.0 in /usr/local/lib/python3.10/dist-packages (from plotly>=5.0.0->dash) (9.0.0)\n",
            "Requirement already satisfied: packaging in /usr/local/lib/python3.10/dist-packages (from plotly>=5.0.0->dash) (24.2)\n",
            "Requirement already satisfied: MarkupSafe>=2.1.1 in /usr/local/lib/python3.10/dist-packages (from Werkzeug<3.1->dash) (3.0.2)\n",
            "Requirement already satisfied: zipp>=3.20 in /usr/local/lib/python3.10/dist-packages (from importlib-metadata->dash) (3.21.0)\n",
            "Requirement already satisfied: charset-normalizer<4,>=2 in /usr/local/lib/python3.10/dist-packages (from requests->dash) (3.4.0)\n",
            "Requirement already satisfied: idna<4,>=2.5 in /usr/local/lib/python3.10/dist-packages (from requests->dash) (3.10)\n",
            "Requirement already satisfied: urllib3<3,>=1.21.1 in /usr/local/lib/python3.10/dist-packages (from requests->dash) (2.2.3)\n",
            "Requirement already satisfied: certifi>=2017.4.17 in /usr/local/lib/python3.10/dist-packages (from requests->dash) (2024.8.30)\n",
            "Requirement already satisfied: six>=1.7.0 in /usr/local/lib/python3.10/dist-packages (from retrying->dash) (1.16.0)\n",
            "Downloading dash-2.18.2-py3-none-any.whl (7.8 MB)\n",
            "\u001b[2K   \u001b[90m━━━━━━━━━━━━━━━━━━━━━━━━━━━━━━━━━━━━━━━━\u001b[0m \u001b[32m7.8/7.8 MB\u001b[0m \u001b[31m18.5 MB/s\u001b[0m eta \u001b[36m0:00:00\u001b[0m\n",
            "\u001b[?25hDownloading dash_core_components-2.0.0-py3-none-any.whl (3.8 kB)\n",
            "Downloading dash_html_components-2.0.0-py3-none-any.whl (4.1 kB)\n",
            "Downloading dash_table-5.0.0-py3-none-any.whl (3.9 kB)\n",
            "Downloading werkzeug-3.0.6-py3-none-any.whl (227 kB)\n",
            "\u001b[2K   \u001b[90m━━━━━━━━━━━━━━━━━━━━━━━━━━━━━━━━━━━━━━━━\u001b[0m \u001b[32m228.0/228.0 kB\u001b[0m \u001b[31m12.6 MB/s\u001b[0m eta \u001b[36m0:00:00\u001b[0m\n",
            "\u001b[?25hDownloading retrying-1.3.4-py3-none-any.whl (11 kB)\n",
            "Installing collected packages: dash-table, dash-html-components, dash-core-components, Werkzeug, retrying, dash\n",
            "  Attempting uninstall: Werkzeug\n",
            "    Found existing installation: Werkzeug 3.1.3\n",
            "    Uninstalling Werkzeug-3.1.3:\n",
            "      Successfully uninstalled Werkzeug-3.1.3\n",
            "Successfully installed Werkzeug-3.0.6 dash-2.18.2 dash-core-components-2.0.0 dash-html-components-2.0.0 dash-table-5.0.0 retrying-1.3.4\n"
          ]
        }
      ],
      "source": [
        "!pip install dash"
      ]
    },
    {
      "cell_type": "code",
      "source": [
        "import pandas as pd\n",
        "import plotly.graph_objects as go\n",
        "import plotly.express as px\n",
        "\n",
        "from dash import Dash, html, dcc, Input, Output, callback"
      ],
      "metadata": {
        "id": "XWnFSLheLt9G"
      },
      "execution_count": 2,
      "outputs": []
    },
    {
      "cell_type": "markdown",
      "source": [
        "# Exercises\n",
        "\n",
        "<font color='darkred'>**Your grade for this exercise will come from the app cell at the bottom of this notebook.**</font>"
      ],
      "metadata": {
        "id": "NTmK_BNlpUeV"
      }
    },
    {
      "cell_type": "markdown",
      "source": [
        "## EXERCISE 1\n",
        "\n",
        "1. Copy/Paste the code you used to create your subplots in Week 6.\n",
        "2. Convert these subplots into **two separate visualizations**, and place them in the Dash app without using callback functions (i.e.,  you only need the `fig`s and the `dcc.Graph`s.).\n",
        "3. Add some markdown text beneath the visualization which explains a takeaway message."
      ],
      "metadata": {
        "id": "J3sc1ljojsSk"
      }
    },
    {
      "cell_type": "code",
      "source": [
        "# Read data from the Google Sheets URL\n",
        "url = 'https://docs.google.com/spreadsheets/d/19_odep_Gr_r734VkoRRgUmUn9YHYBdJZjU6WeXdAY9Y/export?format=csv'\n",
        "df = pd.read_csv(url)\n",
        "\n",
        "# Adding commodity codes for coloring if 'commodity' column exists\n",
        "if 'commodity' in df.columns:\n",
        "    df['commodity_code'] = pd.Categorical(df['commodity']).codes\n",
        "\n",
        "# Visualization 1: Parallel Coordinates Plot\n",
        "fig_parallel = px.parallel_coordinates(\n",
        "    df,\n",
        "    dimensions=['production_value', 'flaring_emissions_MtCO2', 'venting_emissions_MtCO2', 'total_emissions_MtCO2e'],\n",
        "    color='commodity_code' if 'commodity_code' in df.columns else None,\n",
        "    color_continuous_scale=px.colors.sequential.Viridis,\n",
        "    title='Variation of Production and Emissions Across Commodities',\n",
        "    labels={\n",
        "        'production_value': 'Oil Production (Million bbl)',\n",
        "        'flaring_emissions_MtCO2': 'Flaring Emissions (MtCO2)',\n",
        "        'venting_emissions_MtCO2': 'Venting Emissions (MtCO2)',\n",
        "        'total_emissions_MtCO2e': 'Total Emissions (MtCO2e)',\n",
        "        'commodity': 'Commodity'\n",
        "    }\n",
        ")\n",
        "\n",
        "# Visualization 2: Scatter Plot for Production vs Total Emissions\n",
        "fig_scatter = px.scatter(\n",
        "    df,\n",
        "    x='production_value',\n",
        "    y='total_emissions_MtCO2e',\n",
        "    color='commodity' if 'commodity' in df.columns else None,\n",
        "    title='Production Value vs Total Emissions Across Commodities',\n",
        "    labels={\n",
        "        'production_value': 'Production Value (Million bbl)',\n",
        "        'total_emissions_MtCO2e': 'Total Emissions (MtCO2e)'\n",
        "    },\n",
        "    size='total_emissions_MtCO2e' if 'total_emissions_MtCO2e' in df.columns else None,\n",
        "    hover_data=['flaring_emissions_MtCO2', 'venting_emissions_MtCO2'] if 'flaring_emissions_MtCO2' in df.columns and 'venting_emissions_MtCO2' in df.columns else None\n",
        ")\n",
        "\n",
        "# Dash app setup\n",
        "app = Dash(\"My visualization\")\n",
        "\n",
        "# Layout of the app\n",
        "app.layout = html.Div(children=[\n",
        "    html.H1(children=\"Production and Emissions Analysis\"),\n",
        "\n",
        "    # Parallel Coordinates Plot\n",
        "    html.H3('Parallel Coordinates Plot: Variation of Production and Emissions Across Commodities'),\n",
        "    dcc.Graph(figure=fig_parallel),\n",
        "\n",
        "    html.Div(\"\"\"\n",
        "        **Takeaway Message:** The parallel coordinates plot reveals the relationship between production and various emissions types.\n",
        "        Commodities with higher production generally show higher levels of emissions across flaring, venting, and total emissions.\n",
        "        The Viridis color scale helps differentiate between commodities, making it easy to identify trends visually.\n",
        "    \"\"\", style={'whiteSpace': 'pre-wrap'}),\n",
        "\n",
        "    # Scatter Plot for Production vs Total Emissions\n",
        "    html.H3('Scatter Plot: Production Value vs Total Emissions Across Commodities'),\n",
        "    dcc.Graph(figure=fig_scatter),\n",
        "\n",
        "    html.Div(\"\"\"\n",
        "        **Takeaway Message:** The scatter plot indicates a positive relationship between production value and total emissions.\n",
        "        Commodities with greater production tend to have higher total emissions, demonstrating the environmental impact of scaling up production.\n",
        "        It also highlights which commodities contribute the most to emissions.\n",
        "    \"\"\", style={'whiteSpace': 'pre-wrap'}),\n",
        "])\n",
        "\n",
        "# Run the app (jupyter mode for notebook)\n",
        "if __name__ == '__main__':\n",
        "    app.run(debug=True, jupyter_mode=\"inline\", jupyter_height=1000)"
      ],
      "metadata": {
        "id": "DMVRyRrXlq5W",
        "colab": {
          "base_uri": "https://localhost:8080/",
          "height": 1000
        },
        "outputId": "9112dc24-9012-4359-becd-fab352c33cb2"
      },
      "execution_count": 5,
      "outputs": [
        {
          "output_type": "display_data",
          "data": {
            "text/plain": [
              "<IPython.core.display.Javascript object>"
            ],
            "application/javascript": [
              "(async (port, path, width, height, cache, element) => {\n",
              "    if (!google.colab.kernel.accessAllowed && !cache) {\n",
              "      return;\n",
              "    }\n",
              "    element.appendChild(document.createTextNode(''));\n",
              "    const url = await google.colab.kernel.proxyPort(port, {cache});\n",
              "    const iframe = document.createElement('iframe');\n",
              "    iframe.src = new URL(path, url).toString();\n",
              "    iframe.height = height;\n",
              "    iframe.width = width;\n",
              "    iframe.style.border = 0;\n",
              "    iframe.allow = [\n",
              "        'accelerometer',\n",
              "        'autoplay',\n",
              "        'camera',\n",
              "        'clipboard-read',\n",
              "        'clipboard-write',\n",
              "        'gyroscope',\n",
              "        'magnetometer',\n",
              "        'microphone',\n",
              "        'serial',\n",
              "        'usb',\n",
              "        'xr-spatial-tracking',\n",
              "    ].join('; ');\n",
              "    element.appendChild(iframe);\n",
              "  })(8050, \"/\", \"100%\", 1000, false, window.element)"
            ]
          },
          "metadata": {}
        }
      ]
    },
    {
      "cell_type": "markdown",
      "source": [
        "## EXERCISE 2\n",
        "\n",
        "*Refer to the [Text and Annotations](https://plotly.com/python/text-and-annotations/) page in Plotly.*\n",
        "\n",
        "1. In each visualization, incorporate text labels in an effective way that is not cluttered.\n",
        "2. Add an annotation (with an arrow) in each visualization that calls out something significant.\n",
        "3. Customize the formatting to these visualizations as you like."
      ],
      "metadata": {
        "id": "5lDtr6pMlqZ0"
      }
    },
    {
      "cell_type": "code",
      "source": [
        "# Adding commodity codes for coloring if 'commodity' column exists\n",
        "if 'commodity' in df.columns:\n",
        "    df['commodity_code'] = pd.Categorical(df['commodity']).codes\n",
        "\n",
        "# Visualization 1: Parallel Coordinates Plot\n",
        "fig_parallel = px.parallel_coordinates(\n",
        "    df,\n",
        "    dimensions=['production_value', 'flaring_emissions_MtCO2', 'venting_emissions_MtCO2', 'total_emissions_MtCO2e'],\n",
        "    color='commodity_code' if 'commodity_code' in df.columns else None,\n",
        "    color_continuous_scale=px.colors.sequential.Viridis,\n",
        "    title='Variation of Production and Emissions Across Commodities',\n",
        "    labels={\n",
        "        'production_value': 'Oil Production (Million bbl)',\n",
        "        'flaring_emissions_MtCO2': 'Flaring Emissions (MtCO2)',\n",
        "        'venting_emissions_MtCO2': 'Venting Emissions (MtCO2)',\n",
        "        'total_emissions_MtCO2e': 'Total Emissions (MtCO2e)',\n",
        "        'commodity': 'Commodity'\n",
        "    }\n",
        ")\n",
        "\n",
        "# Adding annotation with an arrow\n",
        "fig_parallel.add_annotation(\n",
        "    x=1.05,\n",
        "    y=0.5,\n",
        "    xref=\"paper\",\n",
        "    yref=\"paper\",\n",
        "    text=\"Notice the high total emissions for some commodities\",\n",
        "    showarrow=True,\n",
        "    arrowhead=2,\n",
        "    ax=40,\n",
        "    ay=-40,\n",
        "    font=dict(size=12, color=\"white\"),\n",
        "    arrowcolor=\"white\"\n",
        ")\n",
        "\n",
        "# Customize layout\n",
        "fig_parallel.update_layout(\n",
        "    title_font=dict(size=18),\n",
        "    font=dict(size=11, color=\"white\"),\n",
        "    template='plotly_dark'\n",
        ")\n",
        "\n",
        "# Visualization 2: Scatter Plot for Production vs Total Emissions\n",
        "fig_scatter = px.scatter(\n",
        "    df,\n",
        "    x='production_value',\n",
        "    y='total_emissions_MtCO2e',\n",
        "    color='commodity' if 'commodity' in df.columns else None,\n",
        "    title='Production Value vs Total Emissions Across Commodities',\n",
        "    labels={\n",
        "        'production_value': 'Production Value (Million bbl)',\n",
        "        'total_emissions_MtCO2e': 'Total Emissions (MtCO2e)'\n",
        "    },\n",
        "    size='total_emissions_MtCO2e' if 'total_emissions_MtCO2e' in df.columns else None,\n",
        "    hover_data=['flaring_emissions_MtCO2', 'venting_emissions_MtCO2'] if 'flaring_emissions_MtCO2' in df.columns and 'venting_emissions_MtCO2' in df.columns else None\n",
        ")\n",
        "\n",
        "# Adding annotation with an arrow\n",
        "fig_scatter.add_annotation(\n",
        "    x=df['production_value'].max(),\n",
        "    y=df['total_emissions_MtCO2e'].max(),\n",
        "    text=\"Highest production and emissions\",\n",
        "    showarrow=True,\n",
        "    arrowhead=2,\n",
        "    ax=-50,\n",
        "    ay=-50,\n",
        "    font=dict(size=12, color=\"black\"),\n",
        "    arrowcolor=\"black\"\n",
        ")\n",
        "\n",
        "# Customize layout\n",
        "fig_scatter.update_layout(\n",
        "    title_font=dict(size=18),\n",
        "    font=dict(size=12),\n",
        "    plot_bgcolor='white',\n",
        "    xaxis=dict(showgrid=True, gridwidth=1, gridcolor='lightgrey'),\n",
        "    yaxis=dict(showgrid=True, gridwidth=1, gridcolor='lightgrey')\n",
        ")\n",
        "\n",
        "# Dash app setup\n",
        "app = Dash(\"My visualization\")\n",
        "\n",
        "# Layout of the app\n",
        "app.layout = html.Div(children=[\n",
        "    html.H1(children=\"Production and Emissions Analysis\"),\n",
        "\n",
        "    # Parallel Coordinates Plot\n",
        "    html.H3('Parallel Coordinates Plot: Variation of Production and Emissions Across Commodities'),\n",
        "    dcc.Graph(figure=fig_parallel),\n",
        "\n",
        "    html.Div(\"\"\"\n",
        "        **Takeaway Message:** The parallel coordinates plot reveals the relationship between production and various emissions types.\n",
        "        Commodities with higher production generally show higher levels of emissions across flaring, venting, and total emissions.\n",
        "        The annotation highlights commodities with notably high total emissions.\n",
        "    \"\"\", style={'whiteSpace': 'pre-wrap'}),\n",
        "\n",
        "    # Scatter Plot for Production vs Total Emissions\n",
        "    html.H3('Scatter Plot: Production Value vs Total Emissions Across Commodities'),\n",
        "    dcc.Graph(figure=fig_scatter),\n",
        "\n",
        "    html.Div(\"\"\"\n",
        "        **Takeaway Message:** The scatter plot indicates a positive relationship between production value and total emissions.\n",
        "        Commodities with greater production tend to have higher total emissions, demonstrating the environmental impact of scaling up production.\n",
        "        The annotation highlights the commodity with the highest production and emissions.\n",
        "    \"\"\", style={'whiteSpace': 'pre-wrap'}),\n",
        "])\n",
        "\n",
        "# Run the app (jupyter mode for notebook)\n",
        "if __name__ == '__main__':\n",
        "    app.run(debug=True, jupyter_mode=\"inline\", jupyter_height=1000)"
      ],
      "metadata": {
        "id": "t50dCvKdlySU",
        "colab": {
          "base_uri": "https://localhost:8080/",
          "height": 1000
        },
        "outputId": "887fd997-a97c-4596-ed7a-32b65bde716f"
      },
      "execution_count": 6,
      "outputs": [
        {
          "output_type": "display_data",
          "data": {
            "text/plain": [
              "<IPython.core.display.Javascript object>"
            ],
            "application/javascript": [
              "(async (port, path, width, height, cache, element) => {\n",
              "    if (!google.colab.kernel.accessAllowed && !cache) {\n",
              "      return;\n",
              "    }\n",
              "    element.appendChild(document.createTextNode(''));\n",
              "    const url = await google.colab.kernel.proxyPort(port, {cache});\n",
              "    const iframe = document.createElement('iframe');\n",
              "    iframe.src = new URL(path, url).toString();\n",
              "    iframe.height = height;\n",
              "    iframe.width = width;\n",
              "    iframe.style.border = 0;\n",
              "    iframe.allow = [\n",
              "        'accelerometer',\n",
              "        'autoplay',\n",
              "        'camera',\n",
              "        'clipboard-read',\n",
              "        'clipboard-write',\n",
              "        'gyroscope',\n",
              "        'magnetometer',\n",
              "        'microphone',\n",
              "        'serial',\n",
              "        'usb',\n",
              "        'xr-spatial-tracking',\n",
              "    ].join('; ');\n",
              "    element.appendChild(iframe);\n",
              "  })(8050, \"/\", \"100%\", 1000, false, window.element)"
            ]
          },
          "metadata": {}
        }
      ]
    },
    {
      "cell_type": "markdown",
      "source": [
        "## DASH APP\n",
        "\n",
        "---\n",
        "\n",
        "<font color='darkblue'>**The cell below will be your \"app cell\".**</font>\n",
        "\n",
        "- This is the cell that will be graded for this week's exercise.\n",
        "- Any time you update code, re-run the cell to render changes in the app.\n",
        "- Click the icon on the upper left corner of the output, and select \"View output fullscreen\". *Type **Esc** to return to the notebook.*"
      ],
      "metadata": {
        "id": "4KidQ90Kueo8"
      }
    },
    {
      "cell_type": "code",
      "source": [
        "\n",
        "# Visualization 1: Parallel Coordinates Plot\n",
        "fig_parallel = px.parallel_coordinates(\n",
        "    df,\n",
        "    dimensions=['production_value', 'flaring_emissions_MtCO2', 'venting_emissions_MtCO2', 'total_emissions_MtCO2e'],\n",
        "    color='commodity_code' if 'commodity_code' in df.columns else None,\n",
        "    color_continuous_scale=px.colors.sequential.Viridis,\n",
        "    title='Variation of Production and Emissions Across Commodities',\n",
        "    labels={\n",
        "        'production_value': 'Oil Production (Million bbl)',\n",
        "        'flaring_emissions_MtCO2': 'Flaring Emissions (MtCO2)',\n",
        "        'venting_emissions_MtCO2': 'Venting Emissions (MtCO2)',\n",
        "        'total_emissions_MtCO2e': 'Total Emissions (MtCO2e)',\n",
        "        'commodity': 'Commodity'\n",
        "    }\n",
        ")\n",
        "\n",
        "# Adding annotation with an arrow\n",
        "fig_parallel.add_annotation(\n",
        "    x=1.05,\n",
        "    y=0.5,\n",
        "    xref=\"paper\",\n",
        "    yref=\"paper\",\n",
        "    text=\"Notice the high total emissions for some commodities\",\n",
        "    showarrow=True,\n",
        "    arrowhead=2,\n",
        "    ax=40,\n",
        "    ay=-40,\n",
        "    font=dict(size=12, color=\"white\"),\n",
        "    arrowcolor=\"white\"\n",
        ")\n",
        "\n",
        "# Customize layout\n",
        "fig_parallel.update_layout(\n",
        "    title_font=dict(size=18),\n",
        "    font=dict(size=11, color=\"white\"),\n",
        "    template='plotly_dark'\n",
        ")\n",
        "\n",
        "# Visualization 2: Scatter Plot for Production vs Total Emissions\n",
        "fig_scatter = px.scatter(\n",
        "    df,\n",
        "    x='production_value',\n",
        "    y='total_emissions_MtCO2e',\n",
        "    color='commodity' if 'commodity' in df.columns else None,\n",
        "    title='Production Value vs Total Emissions Across Commodities',\n",
        "    labels={\n",
        "        'production_value': 'Production Value (Million bbl)',\n",
        "        'total_emissions_MtCO2e': 'Total Emissions (MtCO2e)'\n",
        "    },\n",
        "    size='total_emissions_MtCO2e' if 'total_emissions_MtCO2e' in df.columns else None,\n",
        "    hover_data=['flaring_emissions_MtCO2', 'venting_emissions_MtCO2'] if 'flaring_emissions_MtCO2' in df.columns and 'venting_emissions_MtCO2' in df.columns else None\n",
        ")\n",
        "\n",
        "# Adding annotation with an arrow\n",
        "fig_scatter.add_annotation(\n",
        "    x=df['production_value'].max(),\n",
        "    y=df['total_emissions_MtCO2e'].max(),\n",
        "    text=\"Highest production and emissions\",\n",
        "    showarrow=True,\n",
        "    arrowhead=2,\n",
        "    ax=-50,\n",
        "    ay=-50,\n",
        "    font=dict(size=12, color=\"black\"),\n",
        "    arrowcolor=\"black\"\n",
        ")\n",
        "\n",
        "# Customize layout\n",
        "fig_scatter.update_layout(\n",
        "    title_font=dict(size=18),\n",
        "    font=dict(size=12),\n",
        "    plot_bgcolor='white',\n",
        "    xaxis=dict(showgrid=True, gridwidth=1, gridcolor='lightgrey'),\n",
        "    yaxis=dict(showgrid=True, gridwidth=1, gridcolor='lightgrey')\n",
        ")\n",
        "\n",
        "# Dash app setup\n",
        "app = Dash(\"Plots and Text\")\n",
        "\n",
        "app.layout = html.Div(children=[\n",
        "    html.H1(children='My plots and my text'),\n",
        "\n",
        "    html.H3(children='''\n",
        "            Below, we have two visualizations with text labels and annotations.\n",
        "            ''',\n",
        "            style={'color': '#b37800'}),\n",
        "\n",
        "    # Parallel Coordinates Plot\n",
        "    html.H3('Parallel Coordinates Plot: Variation of Production and Emissions Across Commodities'),\n",
        "    dcc.Graph(figure=fig_parallel),\n",
        "\n",
        "    html.Div(\"\"\"\n",
        "        **Takeaway Message:** The parallel coordinates plot reveals the relationship between production and various emissions types.\n",
        "        Commodities with higher production generally show higher levels of emissions across flaring, venting, and total emissions.\n",
        "        The annotation highlights commodities with notably high total emissions.\n",
        "    \"\"\", style={'whiteSpace': 'pre-wrap'}),\n",
        "\n",
        "    # Scatter Plot for Production vs Total Emissions\n",
        "    html.H3('Scatter Plot: Production Value vs Total Emissions Across Commodities'),\n",
        "    dcc.Graph(figure=fig_scatter),\n",
        "\n",
        "    html.Div(\"\"\"\n",
        "        **Takeaway Message:** The scatter plot indicates a positive relationship between production value and total emissions.\n",
        "        Commodities with greater production tend to have higher total emissions, demonstrating the environmental impact of scaling up production.\n",
        "        The annotation highlights the commodity with the highest production and emissions.\n",
        "    \"\"\", style={'whiteSpace': 'pre-wrap'}),\n",
        "])\n",
        "\n",
        "# DO NOT EDIT BELOW THIS LINE (except to change `jupyter_height`)\n",
        "if __name__ == '__main__':\n",
        "    app.run(debug=True, jupyter_mode=\"inline\", jupyter_height=1000)"
      ],
      "metadata": {
        "colab": {
          "base_uri": "https://localhost:8080/",
          "height": 1000
        },
        "id": "50JDBOzIoqtW",
        "outputId": "c6e2786d-e750-48b9-906b-bde5990d31d7"
      },
      "execution_count": 7,
      "outputs": [
        {
          "output_type": "display_data",
          "data": {
            "text/plain": [
              "<IPython.core.display.Javascript object>"
            ],
            "application/javascript": [
              "(async (port, path, width, height, cache, element) => {\n",
              "    if (!google.colab.kernel.accessAllowed && !cache) {\n",
              "      return;\n",
              "    }\n",
              "    element.appendChild(document.createTextNode(''));\n",
              "    const url = await google.colab.kernel.proxyPort(port, {cache});\n",
              "    const iframe = document.createElement('iframe');\n",
              "    iframe.src = new URL(path, url).toString();\n",
              "    iframe.height = height;\n",
              "    iframe.width = width;\n",
              "    iframe.style.border = 0;\n",
              "    iframe.allow = [\n",
              "        'accelerometer',\n",
              "        'autoplay',\n",
              "        'camera',\n",
              "        'clipboard-read',\n",
              "        'clipboard-write',\n",
              "        'gyroscope',\n",
              "        'magnetometer',\n",
              "        'microphone',\n",
              "        'serial',\n",
              "        'usb',\n",
              "        'xr-spatial-tracking',\n",
              "    ].join('; ');\n",
              "    element.appendChild(iframe);\n",
              "  })(8050, \"/\", \"100%\", 1000, false, window.element)"
            ]
          },
          "metadata": {}
        }
      ]
    },
    {
      "cell_type": "markdown",
      "source": [
        "*Note: If your cell output is stuck on \"Loading ...\" for more than a minute, you may need to reconnect/restart your Google Colab runtime.*\n",
        "\n",
        "---"
      ],
      "metadata": {
        "id": "HD0AeqP1uiyg"
      }
    }
  ]
}